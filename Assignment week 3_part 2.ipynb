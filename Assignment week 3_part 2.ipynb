{
 "cells": [
  {
   "cell_type": "markdown",
   "metadata": {},
   "source": [
    "#### From "
   ]
  },
  {
   "cell_type": "code",
   "execution_count": null,
   "metadata": {},
   "outputs": [],
   "source": [
    "import wikipedia as wp\n",
    "\n",
    "#Import just the table from the site. I checked for the table name from the wiki page source.\n",
    "table_url = wp.page(\"List of postal codes of Canada: M\").html().encode(\"UTF-8\")\n",
    "\n",
    "#determin the index of the table by first row\n",
    "toronto_table = pd.read_html(table_url, header = 0)[0]\n",
    "\n",
    "# Droping 'Not assigned' rows\n",
    "toronto_table = toronto_table[toronto_table.Neighbourhood != 'Not assigned']\n",
    "\n",
    "toronto_table"
   ]
  }
 ],
 "metadata": {
  "kernelspec": {
   "display_name": "Python 3",
   "language": "python",
   "name": "python3"
  },
  "language_info": {
   "codemirror_mode": {
    "name": "ipython",
    "version": 3
   },
   "file_extension": ".py",
   "mimetype": "text/x-python",
   "name": "python",
   "nbconvert_exporter": "python",
   "pygments_lexer": "ipython3",
   "version": "3.7.7"
  }
 },
 "nbformat": 4,
 "nbformat_minor": 4
}
